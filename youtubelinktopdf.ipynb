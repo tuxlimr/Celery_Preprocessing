{
  "nbformat": 4,
  "nbformat_minor": 0,
  "metadata": {
    "colab": {
      "provenance": [],
      "gpuType": "T4",
      "mount_file_id": "1NtxkRCSUQdZq476OKzqtvUu-Bya1qNk2",
      "authorship_tag": "ABX9TyPKeJrvpmS9OLQxdn0At+8h",
      "include_colab_link": true
    },
    "kernelspec": {
      "name": "python3",
      "display_name": "Python 3"
    },
    "language_info": {
      "name": "python"
    },
    "accelerator": "GPU",
    "gpuClass": "standard"
  },
  "cells": [
    {
      "cell_type": "markdown",
      "metadata": {
        "id": "view-in-github",
        "colab_type": "text"
      },
      "source": [
        "<a href=\"https://colab.research.google.com/github/tuxlimr/Celery_Preprocessing/blob/master/youtubelinktopdf.ipynb\" target=\"_parent\"><img src=\"https://colab.research.google.com/assets/colab-badge.svg\" alt=\"Open In Colab\"/></a>"
      ]
    },
    {
      "cell_type": "code",
      "source": [
        "pip install --quiet pytube"
      ],
      "metadata": {
        "id": "ZH3GEOfvmRKz",
        "colab": {
          "base_uri": "https://localhost:8080/"
        },
        "outputId": "35e27844-25c6-4936-d9bc-a2dec8d08d13"
      },
      "execution_count": 2,
      "outputs": [
        {
          "output_type": "stream",
          "name": "stdout",
          "text": [
            "\u001b[?25l     \u001b[90m━━━━━━━━━━━━━━━━━━━━━━━━━━━━━━━━━━━━━━━━\u001b[0m \u001b[32m0.0/57.6 kB\u001b[0m \u001b[31m?\u001b[0m eta \u001b[36m-:--:--\u001b[0m\r\u001b[2K     \u001b[90m━━━━━━━━━━━━━━━━━━━━━━━━━━━━━━━━━━━━━━━━\u001b[0m \u001b[32m57.6/57.6 kB\u001b[0m \u001b[31m4.8 MB/s\u001b[0m eta \u001b[36m0:00:00\u001b[0m\n",
            "\u001b[?25h"
          ]
        }
      ]
    },
    {
      "cell_type": "code",
      "source": [
        "from pytube import YouTube\n",
        "\n",
        "def Download(link):\n",
        "    youtubeObject = YouTube(link)\n",
        "    youtubeObject = youtubeObject.streams.get_highest_resolution()\n",
        "    try:\n",
        "        youtubeObject.download()\n",
        "    except:\n",
        "        print(\"An error has occurred\")\n",
        "    print(\"Download is completed successfully\")\n",
        "\n",
        "\n",
        "link = 'https://youtu.be/s_o8dwzRlu4'\n",
        "Download(link)"
      ],
      "metadata": {
        "colab": {
          "base_uri": "https://localhost:8080/"
        },
        "id": "mYpyzGocmPiW",
        "outputId": "074f386a-06fa-45ff-dde7-a6da6e6650a6"
      },
      "execution_count": 3,
      "outputs": [
        {
          "output_type": "stream",
          "name": "stdout",
          "text": [
            "Download is completed successfully\n"
          ]
        }
      ]
    },
    {
      "cell_type": "code",
      "source": [
        "!pip install moviepy\n",
        "!pip install fpdf\n",
        "\n",
        "import os\n",
        "import moviepy.editor as mp\n",
        "from fpdf import FPDF\n",
        "\n",
        "# Enter the video file path\n",
        "video_file = '/content/Kubernetes Crash Course for Absolute Beginners [NEW].mp4'\n",
        "\n",
        "# Create a directory to store the extracted frames\n",
        "frames_dir = 'frames6'\n",
        "os.makedirs(frames_dir, exist_ok=True)\n",
        "\n",
        "# Extract each frame from the video and save it as an image\n",
        "# clip = mp.VideoFileClip(video_file)\n",
        "# for i, frame in enumerate(clip.iter_frames()):\n",
        "#     filename = f\"{frames_dir}/frame-{i}.png\"\n",
        "#     mp.ImageClip(frame).save_frame(filename)\n",
        "\n",
        "\n",
        "# clip = mp.VideoFileClip(video_file)\n",
        "# for i, frame in enumerate(clip.iter_frames(fps=200)):\n",
        "#     filename = f\"{frames_dir}/frame-{i}.png\"\n",
        "#     mp.ImageClip(frame).save_frame(filename)\n",
        "\n",
        "# Extract each frame from the video and save it as an image\n",
        "clip = mp.VideoFileClip(video_file)\n",
        "for i, frame in enumerate(clip.iter_frames(fps=1/60)):\n",
        "    filename = f\"{frames_dir}/frame-{i}.png\"\n",
        "    mp.ImageClip(frame).save_frame(filename)\n",
        "# Create a new PDF document using fpdf\n",
        "\n",
        "pdf = FPDF()\n",
        "pdf.add_page()\n",
        "\n",
        "# Insert each image into the PDF document\n",
        "for filename in os.listdir(frames_dir):\n",
        "    if filename.endswith('.png'):\n",
        "        pdf.image(f\"{frames_dir}/{filename}\", x=None, y=None, w=200, h=150)\n",
        "        pdf.ln(150)\n",
        "\n",
        "# Save the PDF document\n",
        "pdf.output(\"output.pdf\", \"F\")\n",
        "\n",
        "# Remove the extracted frames directory and images\n",
        "for filename in os.listdir(frames_dir):\n",
        "    os.remove(f\"{frames_dir}/{filename}\")\n",
        "os.rmdir(frames_dir)\n"
      ],
      "metadata": {
        "colab": {
          "base_uri": "https://localhost:8080/"
        },
        "id": "qeT3P88wnKMS",
        "outputId": "619a1538-4ee3-4f42-d7be-09e00e91cc8b"
      },
      "execution_count": null,
      "outputs": [
        {
          "output_type": "stream",
          "name": "stdout",
          "text": [
            "Looking in indexes: https://pypi.org/simple, https://us-python.pkg.dev/colab-wheels/public/simple/\n",
            "Requirement already satisfied: moviepy in /usr/local/lib/python3.10/dist-packages (1.0.3)\n",
            "Requirement already satisfied: decorator<5.0,>=4.0.2 in /usr/local/lib/python3.10/dist-packages (from moviepy) (4.4.2)\n",
            "Requirement already satisfied: tqdm<5.0,>=4.11.2 in /usr/local/lib/python3.10/dist-packages (from moviepy) (4.65.0)\n",
            "Requirement already satisfied: requests<3.0,>=2.8.1 in /usr/local/lib/python3.10/dist-packages (from moviepy) (2.27.1)\n",
            "Requirement already satisfied: proglog<=1.0.0 in /usr/local/lib/python3.10/dist-packages (from moviepy) (0.1.10)\n",
            "Requirement already satisfied: numpy>=1.17.3 in /usr/local/lib/python3.10/dist-packages (from moviepy) (1.22.4)\n",
            "Requirement already satisfied: imageio<3.0,>=2.5 in /usr/local/lib/python3.10/dist-packages (from moviepy) (2.25.1)\n",
            "Requirement already satisfied: imageio-ffmpeg>=0.2.0 in /usr/local/lib/python3.10/dist-packages (from moviepy) (0.4.8)\n",
            "Requirement already satisfied: pillow>=8.3.2 in /usr/local/lib/python3.10/dist-packages (from imageio<3.0,>=2.5->moviepy) (8.4.0)\n",
            "Requirement already satisfied: urllib3<1.27,>=1.21.1 in /usr/local/lib/python3.10/dist-packages (from requests<3.0,>=2.8.1->moviepy) (1.26.15)\n",
            "Requirement already satisfied: certifi>=2017.4.17 in /usr/local/lib/python3.10/dist-packages (from requests<3.0,>=2.8.1->moviepy) (2022.12.7)\n",
            "Requirement already satisfied: charset-normalizer~=2.0.0 in /usr/local/lib/python3.10/dist-packages (from requests<3.0,>=2.8.1->moviepy) (2.0.12)\n",
            "Requirement already satisfied: idna<4,>=2.5 in /usr/local/lib/python3.10/dist-packages (from requests<3.0,>=2.8.1->moviepy) (3.4)\n",
            "Looking in indexes: https://pypi.org/simple, https://us-python.pkg.dev/colab-wheels/public/simple/\n",
            "Collecting fpdf\n",
            "  Downloading fpdf-1.7.2.tar.gz (39 kB)\n",
            "  Preparing metadata (setup.py) ... \u001b[?25l\u001b[?25hdone\n",
            "Building wheels for collected packages: fpdf\n",
            "  Building wheel for fpdf (setup.py) ... \u001b[?25l\u001b[?25hdone\n",
            "  Created wheel for fpdf: filename=fpdf-1.7.2-py2.py3-none-any.whl size=40704 sha256=1de76e6338e7d0a37b6d7caf50f1b8dbd12674446fb768d92cbb79678a1f83f2\n",
            "  Stored in directory: /root/.cache/pip/wheels/f9/95/ba/f418094659025eb9611f17cbcaf2334236bf39a0c3453ea455\n",
            "Successfully built fpdf\n",
            "Installing collected packages: fpdf\n",
            "Successfully installed fpdf-1.7.2\n"
          ]
        }
      ]
    },
    {
      "cell_type": "code",
      "source": [
        "import os\n",
        "import moviepy.editor as mp\n",
        "from fpdf import FPDF\n",
        "\n",
        "# Enter the video file path\n",
        "video_file = '/content/Kubernetes Crash Course for Absolute Beginners [NEW].mp4'\n",
        "\n",
        "# Create a directory to store the extracted frames\n",
        "frames_dir = 'frames7'\n",
        "os.makedirs(frames_dir, exist_ok=True)\n",
        "\n",
        "# Extract each frame from the video and save it as an image\n",
        "clip = mp.VideoFileClip(video_file)\n",
        "for i, frame in enumerate(clip.iter_frames(fps=2)):\n",
        "    filename = f\"{frames_dir}/frame-{i}.png\"\n",
        "    mp.ImageClip(frame).save_frame(filename)\n",
        "\n",
        "# Create a sorted list of image filenames based on the frame number\n",
        "image_filenames = [filename for filename in os.listdir(frames_dir) if filename.endswith('.png')]\n",
        "image_filenames.sort(key=lambda filename: int(filename.split('-')[-1].split('.')[0]))\n",
        "\n",
        "# Create a new PDF document using fpdf\n",
        "pdf = FPDF(orientation='L')\n",
        "pdf.add_page()\n",
        "\n",
        "# Insert each image into the PDF document\n",
        "for filename in image_filenames:\n",
        "    pdf.image(f\"{frames_dir}/{filename}\", x=None, y=None, w=250, h=175)\n",
        "    pdf.ln(175)\n",
        "\n",
        "# Save the PDF document\n",
        "pdf.output(\"output.pdf\", \"F\")\n",
        "\n",
        "# Remove the extracted frames directory and images\n",
        "for filename in os.listdir(frames_dir):\n",
        "    os.remove(f\"{frames_dir}/{filename}\")\n",
        "os.rmdir(frames_dir)\n"
      ],
      "metadata": {
        "id": "Gr_I2_G53eYk"
      },
      "execution_count": null,
      "outputs": []
    }
  ]
}