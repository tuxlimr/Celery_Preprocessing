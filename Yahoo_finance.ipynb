{
  "nbformat": 4,
  "nbformat_minor": 0,
  "metadata": {
    "colab": {
      "provenance": [],
      "authorship_tag": "ABX9TyNT7RUgWS9fs7olrSjLIhfp",
      "include_colab_link": true
    },
    "kernelspec": {
      "name": "python3",
      "display_name": "Python 3"
    },
    "language_info": {
      "name": "python"
    }
  },
  "cells": [
    {
      "cell_type": "markdown",
      "metadata": {
        "id": "view-in-github",
        "colab_type": "text"
      },
      "source": [
        "<a href=\"https://colab.research.google.com/github/tuxlimr/Celery_Preprocessing/blob/master/Yahoo_finance.ipynb\" target=\"_parent\"><img src=\"https://colab.research.google.com/assets/colab-badge.svg\" alt=\"Open In Colab\"/></a>"
      ]
    },
    {
      "cell_type": "code",
      "execution_count": null,
      "metadata": {
        "colab": {
          "base_uri": "https://localhost:8080/",
          "height": 1000
        },
        "id": "CJ0bX3OD8IeK",
        "outputId": "38bb41ca-dcb5-452e-eed1-36bbe9f8bda9"
      },
      "outputs": [
        {
          "output_type": "stream",
          "name": "stdout",
          "text": [
            "Looking in indexes: https://pypi.org/simple, https://us-python.pkg.dev/colab-wheels/public/simple/\n",
            "Collecting yfinance\n",
            "  Downloading yfinance-0.2.3-py2.py3-none-any.whl (50 kB)\n",
            "\u001b[K     |████████████████████████████████| 50 kB 3.0 MB/s \n",
            "\u001b[?25hRequirement already satisfied: numpy>=1.16.5 in /usr/local/lib/python3.8/dist-packages (from yfinance) (1.21.6)\n",
            "Collecting beautifulsoup4>=4.11.1\n",
            "  Downloading beautifulsoup4-4.11.1-py3-none-any.whl (128 kB)\n",
            "\u001b[K     |████████████████████████████████| 128 kB 9.3 MB/s \n",
            "\u001b[?25hCollecting frozendict>=2.3.4\n",
            "  Downloading frozendict-2.3.4-cp38-cp38-manylinux_2_17_x86_64.manylinux2014_x86_64.whl (110 kB)\n",
            "\u001b[K     |████████████████████████████████| 110 kB 56.8 MB/s \n",
            "\u001b[?25hCollecting requests>=2.26\n",
            "  Downloading requests-2.28.1-py3-none-any.whl (62 kB)\n",
            "\u001b[K     |████████████████████████████████| 62 kB 1.2 MB/s \n",
            "\u001b[?25hCollecting html5lib>=1.1\n",
            "  Downloading html5lib-1.1-py2.py3-none-any.whl (112 kB)\n",
            "\u001b[K     |████████████████████████████████| 112 kB 57.1 MB/s \n",
            "\u001b[?25hRequirement already satisfied: pytz>=2022.5 in /usr/local/lib/python3.8/dist-packages (from yfinance) (2022.6)\n",
            "Collecting cryptography>=3.3.2\n",
            "  Downloading cryptography-38.0.4-cp36-abi3-manylinux_2_24_x86_64.whl (4.0 MB)\n",
            "\u001b[K     |████████████████████████████████| 4.0 MB 55.8 MB/s \n",
            "\u001b[?25hRequirement already satisfied: pandas>=1.3.0 in /usr/local/lib/python3.8/dist-packages (from yfinance) (1.3.5)\n",
            "Requirement already satisfied: lxml>=4.9.1 in /usr/local/lib/python3.8/dist-packages (from yfinance) (4.9.2)\n",
            "Requirement already satisfied: appdirs>=1.4.4 in /usr/local/lib/python3.8/dist-packages (from yfinance) (1.4.4)\n",
            "Requirement already satisfied: multitasking>=0.0.7 in /usr/local/lib/python3.8/dist-packages (from yfinance) (0.0.11)\n",
            "Collecting soupsieve>1.2\n",
            "  Downloading soupsieve-2.3.2.post1-py3-none-any.whl (37 kB)\n",
            "Requirement already satisfied: cffi>=1.12 in /usr/local/lib/python3.8/dist-packages (from cryptography>=3.3.2->yfinance) (1.15.1)\n",
            "Requirement already satisfied: pycparser in /usr/local/lib/python3.8/dist-packages (from cffi>=1.12->cryptography>=3.3.2->yfinance) (2.21)\n",
            "Requirement already satisfied: webencodings in /usr/local/lib/python3.8/dist-packages (from html5lib>=1.1->yfinance) (0.5.1)\n",
            "Requirement already satisfied: six>=1.9 in /usr/local/lib/python3.8/dist-packages (from html5lib>=1.1->yfinance) (1.15.0)\n",
            "Requirement already satisfied: python-dateutil>=2.7.3 in /usr/local/lib/python3.8/dist-packages (from pandas>=1.3.0->yfinance) (2.8.2)\n",
            "Requirement already satisfied: urllib3<1.27,>=1.21.1 in /usr/local/lib/python3.8/dist-packages (from requests>=2.26->yfinance) (1.24.3)\n",
            "Requirement already satisfied: charset-normalizer<3,>=2 in /usr/local/lib/python3.8/dist-packages (from requests>=2.26->yfinance) (2.1.1)\n",
            "Requirement already satisfied: idna<4,>=2.5 in /usr/local/lib/python3.8/dist-packages (from requests>=2.26->yfinance) (2.10)\n",
            "Requirement already satisfied: certifi>=2017.4.17 in /usr/local/lib/python3.8/dist-packages (from requests>=2.26->yfinance) (2022.12.7)\n",
            "Installing collected packages: soupsieve, requests, html5lib, frozendict, cryptography, beautifulsoup4, yfinance\n",
            "  Attempting uninstall: requests\n",
            "    Found existing installation: requests 2.23.0\n",
            "    Uninstalling requests-2.23.0:\n",
            "      Successfully uninstalled requests-2.23.0\n",
            "  Attempting uninstall: html5lib\n",
            "    Found existing installation: html5lib 1.0.1\n",
            "    Uninstalling html5lib-1.0.1:\n",
            "      Successfully uninstalled html5lib-1.0.1\n",
            "  Attempting uninstall: beautifulsoup4\n",
            "    Found existing installation: beautifulsoup4 4.6.3\n",
            "    Uninstalling beautifulsoup4-4.6.3:\n",
            "      Successfully uninstalled beautifulsoup4-4.6.3\n",
            "Successfully installed beautifulsoup4-4.11.1 cryptography-38.0.4 frozendict-2.3.4 html5lib-1.1 requests-2.28.1 soupsieve-2.3.2.post1 yfinance-0.2.3\n",
            "[*********************100%***********************]  1 of 1 completed\n"
          ]
        },
        {
          "output_type": "display_data",
          "data": {
            "text/plain": [
              "<Figure size 432x288 with 1 Axes>"
            ],
            "image/png": "[encoded data removed]"
          },
          "metadata": {
            "needs_background": "light"
          }
        }
      ],
      "source": [
        "!pip install yfinance \n",
        " \n",
        "# Import yfinance \n",
        "import yfinance as yf   \n",
        " \n",
        "# Get the data for the stock Apple by specifying the stock ticker, start date, and end date \n",
        "data = yf.download('AAPL','2016-01-01','2018-01-01') \n",
        " \n",
        "# Plot the close prices \n",
        "import matplotlib.pyplot as plt \n",
        "data.Close.plot() \n",
        "plt.show() "
      ]
    },
    {
      "cell_type": "code",
      "source": [
        "data = yf.download('SBIN.NS','2016-01-01','2022-01-01') \n",
        " \n",
        "# Plot the close prices \n",
        "import matplotlib.pyplot as plt \n",
        "data.Close.plot() \n",
        "plt.show() "
      ],
      "metadata": {
        "colab": {
          "base_uri": "https://localhost:8080/",
          "height": 286
        },
        "id": "khrMPP2k8Phd",
        "outputId": "f184c90c-3bfd-4401-cd9c-d0723f96b4fb"
      },
      "execution_count": null,
      "outputs": [
        {
          "output_type": "stream",
          "name": "stdout",
          "text": [
            "\r[*********************100%***********************]  1 of 1 completed\n"
          ]
        },
        {
          "output_type": "display_data",
          "data": {
            "text/plain": [
              "<Figure size 432x288 with 1 Axes>"
            ],
            "image/png": "[encoded data removed]"
          },
          "metadata": {
            "needs_background": "light"
          }
        }
      ]
    },
    {
      "cell_type": "code",
      "source": [
        "stocks = ['SBIN','RELIANCE','APOLLOHOSP','ADANIPORTS','TATAMOTORS']\n",
        "for i in stocks:\n",
        "  data = yf.download(f'{i}.NS','2001-01-01','2022-12-01') \n",
        "  data.Close.plot() \n",
        "  print(f\"**********Stock:{i}\")\n",
        "  plt.show() \n"
      ],
      "metadata": {
        "colab": {
          "base_uri": "https://localhost:8080/",
          "height": 1000
        },
        "id": "o6BqwLy-_E3a",
        "outputId": "b12d7880-6235-463a-bebc-2e5df6e91062"
      },
      "execution_count": null,
      "outputs": [
        {
          "output_type": "stream",
          "name": "stdout",
          "text": [
            "\r[*********************100%***********************]  1 of 1 completed\n",
            "**********Stock:SBIN\n"
          ]
        },
        {
          "output_type": "display_data",
          "data": {
            "text/plain": [
              "<Figure size 432x288 with 1 Axes>"
            ],
            "image/png": "[encoded data removed]"
          },
          "metadata": {
            "needs_background": "light"
          }
        },
        {
          "output_type": "stream",
          "name": "stdout",
          "text": [
            "\r[*********************100%***********************]  1 of 1 completed\n",
            "**********Stock:RELIANCE\n"
          ]
        },
        {
          "output_type": "display_data",
          "data": {
            "text/plain": [
              "<Figure size 432x288 with 1 Axes>"
            ],
            "image/png": "[encoded data removed]"
          },
          "metadata": {
            "needs_background": "light"
          }
        },
        {
          "output_type": "stream",
          "name": "stdout",
          "text": [
            "\r[*********************100%***********************]  1 of 1 completed\n",
            "**********Stock:APOLLOHOSP\n"
          ]
        },
        {
          "output_type": "display_data",
          "data": {
            "text/plain": [
              "<Figure size 432x288 with 1 Axes>"
            ],
            "image/png": "[encoded data removed]"
          },
          "metadata": {
            "needs_background": "light"
          }
        },
        {
          "output_type": "stream",
          "name": "stdout",
          "text": [
            "\r[*********************100%***********************]  1 of 1 completed\n",
            "**********Stock:ADANIPORTS\n"
          ]
        },
        {
          "output_type": "display_data",
          "data": {
            "text/plain": [
              "<Figure size 432x288 with 1 Axes>"
            ],
            "image/png": "[encoded data removed]"
          },
          "metadata": {
            "needs_background": "light"
          }
        },
        {
          "output_type": "stream",
          "name": "stdout",
          "text": [
            "\r[*********************100%***********************]  1 of 1 completed\n",
            "**********Stock:TATAMOTORS\n"
          ]
        },
        {
          "output_type": "display_data",
          "data": {
            "text/plain": [
              "<Figure size 432x288 with 1 Axes>"
            ],
            "image/png": "[encoded data removed]"
          },
          "metadata": {
            "needs_background": "light"
          }
        }
      ]
    },
    {
      "cell_type": "code",
      "source": [
        "    symbol = 'SBIN.NS'\n",
        "    data = yf.download(tickers=symbol, period='1d', interval='1m')"
      ],
      "metadata": {
        "colab": {
          "base_uri": "https://localhost:8080/"
        },
        "id": "v6awdctntE_J",
        "outputId": "a1964bf5-7f5a-4574-ea53-464652870d60"
      },
      "execution_count": null,
      "outputs": [
        {
          "output_type": "stream",
          "name": "stdout",
          "text": [
            "\r[*********************100%***********************]  1 of 1 completed\n"
          ]
        }
      ]
    },
    {
      "cell_type": "code",
      "source": [
        "data"
      ],
      "metadata": {
        "colab": {
          "base_uri": "https://localhost:8080/",
          "height": 455
        },
        "id": "Ebf1pdUBtGx7",
        "outputId": "2ee5df46-d200-4039-d4c4-03cb3bf0dcd0"
      },
      "execution_count": null,
      "outputs": [
        {
          "output_type": "execute_result",
          "data": {
            "text/plain": [
              "                           Open        High         Low       Close  \\\n",
              "Datetime                                                              \n",
              "2022-12-21 09:15:00  605.900024  608.400024  605.900024  608.299988   \n",
              "2022-12-21 09:16:00  608.450012  609.150024  608.000000  608.299988   \n",
              "2022-12-21 09:17:00  608.349976  608.349976  607.250000  607.349976   \n",
              "2022-12-21 09:18:00  607.599976  607.799988  606.650024  607.000000   \n",
              "2022-12-21 09:19:00  607.000000  607.500000  606.900024  606.900024   \n",
              "...                         ...         ...         ...         ...   \n",
              "2022-12-21 15:26:00  593.000000  593.500000  592.950012  593.299988   \n",
              "2022-12-21 15:27:00  593.450012  593.450012  593.000000  593.000000   \n",
              "2022-12-21 15:28:00  593.099976  593.900024  593.000000  593.900024   \n",
              "2022-12-21 15:29:00  593.599976  594.849976  593.599976  594.849976   \n",
              "2022-12-21 15:30:00  593.400024  593.400024  593.400024  593.400024   \n",
              "\n",
              "                      Adj Close  Volume  \n",
              "Datetime                                 \n",
              "2022-12-21 09:15:00  608.299988       0  \n",
              "2022-12-21 09:16:00  608.299988   83147  \n",
              "2022-12-21 09:17:00  607.349976   80741  \n",
              "2022-12-21 09:18:00  607.000000   75969  \n",
              "2022-12-21 09:19:00  606.900024   35366  \n",
              "...                         ...     ...  \n",
              "2022-12-21 15:26:00  593.299988   76508  \n",
              "2022-12-21 15:27:00  593.000000   32123  \n",
              "2022-12-21 15:28:00  593.900024   52042  \n",
              "2022-12-21 15:29:00  594.849976   36150  \n",
              "2022-12-21 15:30:00  593.400024       0  \n",
              "\n",
              "[376 rows x 6 columns]"
            ],
            "text/html": [
              "\n",
              "  <div id=\"df-380541d3-862d-435c-b9a7-47c2697d4fe7\">\n",
              "    <div class=\"colab-df-container\">\n",
              "      <div>\n",
              "<style scoped>\n",
              "    .dataframe tbody tr th:only-of-type {\n",
              "        vertical-align: middle;\n",
              "    }\n",
              "\n",
              "    .dataframe tbody tr th {\n",
              "        vertical-align: top;\n",
              "    }\n",
              "\n",
              "    .dataframe thead th {\n",
              "        text-align: right;\n",
              "    }\n",
              "</style>\n",
              "<table border=\"1\" class=\"dataframe\">\n",
              "  <thead>\n",
              "    <tr style=\"text-align: right;\">\n",
              "      <th></th>\n",
              "      <th>Open</th>\n",
              "      <th>High</th>\n",
              "      <th>Low</th>\n",
              "      <th>Close</th>\n",
              "      <th>Adj Close</th>\n",
              "      <th>Volume</th>\n",
              "    </tr>\n",
              "    <tr>\n",
              "      <th>Datetime</th>\n",
              "      <th></th>\n",
              "      <th></th>\n",
              "      <th></th>\n",
              "      <th></th>\n",
              "      <th></th>\n",
              "      <th></th>\n",
              "    </tr>\n",
              "  </thead>\n",
              "  <tbody>\n",
              "    <tr>\n",
              "      <th>2022-12-21 09:15:00</th>\n",
              "      <td>605.900024</td>\n",
              "      <td>608.400024</td>\n",
              "      <td>605.900024</td>\n",
              "      <td>608.299988</td>\n",
              "      <td>608.299988</td>\n",
              "      <td>0</td>\n",
              "    </tr>\n",
              "    <tr>\n",
              "      <th>2022-12-21 09:16:00</th>\n",
              "      <td>608.450012</td>\n",
              "      <td>609.150024</td>\n",
              "      <td>608.000000</td>\n",
              "      <td>608.299988</td>\n",
              "      <td>608.299988</td>\n",
              "      <td>83147</td>\n",
              "    </tr>\n",
              "    <tr>\n",
              "      <th>2022-12-21 09:17:00</th>\n",
              "      <td>608.349976</td>\n",
              "      <td>608.349976</td>\n",
              "      <td>607.250000</td>\n",
              "      <td>607.349976</td>\n",
              "      <td>607.349976</td>\n",
              "      <td>80741</td>\n",
              "    </tr>\n",
              "    <tr>\n",
              "      <th>2022-12-21 09:18:00</th>\n",
              "      <td>607.599976</td>\n",
              "      <td>607.799988</td>\n",
              "      <td>606.650024</td>\n",
              "      <td>607.000000</td>\n",
              "      <td>607.000000</td>\n",
              "      <td>75969</td>\n",
              "    </tr>\n",
              "    <tr>\n",
              "      <th>2022-12-21 09:19:00</th>\n",
              "      <td>607.000000</td>\n",
              "      <td>607.500000</td>\n",
              "      <td>606.900024</td>\n",
              "      <td>606.900024</td>\n",
              "      <td>606.900024</td>\n",
              "      <td>35366</td>\n",
              "    </tr>\n",
              "    <tr>\n",
              "      <th>...</th>\n",
              "      <td>...</td>\n",
              "      <td>...</td>\n",
              "      <td>...</td>\n",
              "      <td>...</td>\n",
              "      <td>...</td>\n",
              "      <td>...</td>\n",
              "    </tr>\n",
              "    <tr>\n",
              "      <th>2022-12-21 15:26:00</th>\n",
              "      <td>593.000000</td>\n",
              "      <td>593.500000</td>\n",
              "      <td>592.950012</td>\n",
              "      <td>593.299988</td>\n",
              "      <td>593.299988</td>\n",
              "      <td>76508</td>\n",
              "    </tr>\n",
              "    <tr>\n",
              "      <th>2022-12-21 15:27:00</th>\n",
              "      <td>593.450012</td>\n",
              "      <td>593.450012</td>\n",
              "      <td>593.000000</td>\n",
              "      <td>593.000000</td>\n",
              "      <td>593.000000</td>\n",
              "      <td>32123</td>\n",
              "    </tr>\n",
              "    <tr>\n",
              "      <th>2022-12-21 15:28:00</th>\n",
              "      <td>593.099976</td>\n",
              "      <td>593.900024</td>\n",
              "      <td>593.000000</td>\n",
              "      <td>593.900024</td>\n",
              "      <td>593.900024</td>\n",
              "      <td>52042</td>\n",
              "    </tr>\n",
              "    <tr>\n",
              "      <th>2022-12-21 15:29:00</th>\n",
              "      <td>593.599976</td>\n",
              "      <td>594.849976</td>\n",
              "      <td>593.599976</td>\n",
              "      <td>594.849976</td>\n",
              "      <td>594.849976</td>\n",
              "      <td>36150</td>\n",
              "    </tr>\n",
              "    <tr>\n",
              "      <th>2022-12-21 15:30:00</th>\n",
              "      <td>593.400024</td>\n",
              "      <td>593.400024</td>\n",
              "      <td>593.400024</td>\n",
              "      <td>593.400024</td>\n",
              "      <td>593.400024</td>\n",
              "      <td>0</td>\n",
              "    </tr>\n",
              "  </tbody>\n",
              "</table>\n",
              "<p>376 rows × 6 columns</p>\n",
              "</div>\n",
              "      <button class=\"colab-df-convert\" onclick=\"convertToInteractive('df-380541d3-862d-435c-b9a7-47c2697d4fe7')\"\n",
              "              title=\"Convert this dataframe to an interactive table.\"\n",
              "              style=\"display:none;\">\n",
              "        \n",
              "  <svg xmlns=\"http://www.w3.org/2000/svg\" height=\"24px\"viewBox=\"0 0 24 24\"\n",
              "       width=\"24px\">\n",
              "    <path d=\"M0 0h24v24H0V0z\" fill=\"none\"/>\n",
              "    <path d=\"M18.56 5.44l.94 2.06.94-2.06 2.06-.94-2.06-.94-.94-2.06-.94 2.06-2.06.94zm-11 1L8.5 8.5l.94-2.06 2.06-.94-2.06-.94L8.5 2.5l-.94 2.06-2.06.94zm10 10l.94 2.06.94-2.06 2.06-.94-2.06-.94-.94-2.06-.94 2.06-2.06.94z\"/><path d=\"M17.41 7.96l-1.37-1.37c-.4-.4-.92-.59-1.43-.59-.52 0-1.04.2-1.43.59L10.3 9.45l-7.72 7.72c-.78.78-.78 2.05 0 2.83L4 21.41c.39.39.9.59 1.41.59.51 0 1.02-.2 1.41-.59l7.78-7.78 2.81-2.81c.8-.78.8-2.07 0-2.86zM5.41 20L4 18.59l7.72-7.72 1.47 1.35L5.41 20z\"/>\n",
              "  </svg>\n",
              "      </button>\n",
              "      \n",
              "  <style>\n",
              "    .colab-df-container {\n",
              "      display:flex;\n",
              "      flex-wrap:wrap;\n",
              "      gap: 12px;\n",
              "    }\n",
              "\n",
              "    .colab-df-convert {\n",
              "      background-color: #E8F0FE;\n",
              "      border: none;\n",
              "      border-radius: 50%;\n",
              "      cursor: pointer;\n",
              "      display: none;\n",
              "      fill: #1967D2;\n",
              "      height: 32px;\n",
              "      padding: 0 0 0 0;\n",
              "      width: 32px;\n",
              "    }\n",
              "\n",
              "    .colab-df-convert:hover {\n",
              "      background-color: #E2EBFA;\n",
              "      box-shadow: 0px 1px 2px rgba(60, 64, 67, 0.3), 0px 1px 3px 1px rgba(60, 64, 67, 0.15);\n",
              "      fill: #174EA6;\n",
              "    }\n",
              "\n",
              "    [theme=dark] .colab-df-convert {\n",
              "      background-color: #3B4455;\n",
              "      fill: #D2E3FC;\n",
              "    }\n",
              "\n",
              "    [theme=dark] .colab-df-convert:hover {\n",
              "      background-color: #434B5C;\n",
              "      box-shadow: 0px 1px 3px 1px rgba(0, 0, 0, 0.15);\n",
              "      filter: drop-shadow(0px 1px 2px rgba(0, 0, 0, 0.3));\n",
              "      fill: #FFFFFF;\n",
              "    }\n",
              "  </style>\n",
              "\n",
              "      <script>\n",
              "        const buttonEl =\n",
              "          document.querySelector('#df-380541d3-862d-435c-b9a7-47c2697d4fe7 button.colab-df-convert');\n",
              "        buttonEl.style.display =\n",
              "          google.colab.kernel.accessAllowed ? 'block' : 'none';\n",
              "\n",
              "        async function convertToInteractive(key) {\n",
              "          const element = document.querySelector('#df-380541d3-862d-435c-b9a7-47c2697d4fe7');\n",
              "          const dataTable =\n",
              "            await google.colab.kernel.invokeFunction('convertToInteractive',\n",
              "                                                     [key], {});\n",
              "          if (!dataTable) return;\n",
              "\n",
              "          const docLinkHtml = 'Like what you see? Visit the ' +\n",
              "            '<a target=\"_blank\" href=https://colab.research.google.com/notebooks/data_table.ipynb>data table notebook</a>'\n",
              "            + ' to learn more about interactive tables.';\n",
              "          element.innerHTML = '';\n",
              "          dataTable['output_type'] = 'display_data';\n",
              "          await google.colab.output.renderOutput(dataTable, element);\n",
              "          const docLink = document.createElement('div');\n",
              "          docLink.innerHTML = docLinkHtml;\n",
              "          element.appendChild(docLink);\n",
              "        }\n",
              "      </script>\n",
              "    </div>\n",
              "  </div>\n",
              "  "
            ]
          },
          "metadata": {},
          "execution_count": 4
        }
      ]
    },
    {
      "cell_type": "code",
      "source": [
        "import pandas as pd\n",
        "df = pd.DataFrame(data)"
      ],
      "metadata": {
        "id": "-TBDXnW5tOuo"
      },
      "execution_count": null,
      "outputs": []
    },
    {
      "cell_type": "code",
      "source": [
        "df\n"
      ],
      "metadata": {
        "colab": {
          "base_uri": "https://localhost:8080/",
          "height": 455
        },
        "id": "fvPQGhVbtUmv",
        "outputId": "c2b4a0bf-9ced-4dd0-be26-3e0d0bcbb082"
      },
      "execution_count": null,
      "outputs": [
        {
          "output_type": "execute_result",
          "data": {
            "text/plain": [
              "                           Open        High         Low       Close  \\\n",
              "Datetime                                                              \n",
              "2022-12-21 09:15:00  605.900024  608.400024  605.900024  608.299988   \n",
              "2022-12-21 09:16:00  608.450012  609.150024  608.000000  608.299988   \n",
              "2022-12-21 09:17:00  608.349976  608.349976  607.250000  607.349976   \n",
              "2022-12-21 09:18:00  607.599976  607.799988  606.650024  607.000000   \n",
              "2022-12-21 09:19:00  607.000000  607.500000  606.900024  606.900024   \n",
              "...                         ...         ...         ...         ...   \n",
              "2022-12-21 15:26:00  593.000000  593.500000  592.950012  593.299988   \n",
              "2022-12-21 15:27:00  593.450012  593.450012  593.000000  593.000000   \n",
              "2022-12-21 15:28:00  593.099976  593.900024  593.000000  593.900024   \n",
              "2022-12-21 15:29:00  593.599976  594.849976  593.599976  594.849976   \n",
              "2022-12-21 15:30:00  593.400024  593.400024  593.400024  593.400024   \n",
              "\n",
              "                      Adj Close  Volume  \n",
              "Datetime                                 \n",
              "2022-12-21 09:15:00  608.299988       0  \n",
              "2022-12-21 09:16:00  608.299988   83147  \n",
              "2022-12-21 09:17:00  607.349976   80741  \n",
              "2022-12-21 09:18:00  607.000000   75969  \n",
              "2022-12-21 09:19:00  606.900024   35366  \n",
              "...                         ...     ...  \n",
              "2022-12-21 15:26:00  593.299988   76508  \n",
              "2022-12-21 15:27:00  593.000000   32123  \n",
              "2022-12-21 15:28:00  593.900024   52042  \n",
              "2022-12-21 15:29:00  594.849976   36150  \n",
              "2022-12-21 15:30:00  593.400024       0  \n",
              "\n",
              "[376 rows x 6 columns]"
            ],
            "text/html": [
              "\n",
              "  <div id=\"df-2a7870fa-1387-43a5-a28a-21b73bb12a6f\">\n",
              "    <div class=\"colab-df-container\">\n",
              "      <div>\n",
              "<style scoped>\n",
              "    .dataframe tbody tr th:only-of-type {\n",
              "        vertical-align: middle;\n",
              "    }\n",
              "\n",
              "    .dataframe tbody tr th {\n",
              "        vertical-align: top;\n",
              "    }\n",
              "\n",
              "    .dataframe thead th {\n",
              "        text-align: right;\n",
              "    }\n",
              "</style>\n",
              "<table border=\"1\" class=\"dataframe\">\n",
              "  <thead>\n",
              "    <tr style=\"text-align: right;\">\n",
              "      <th></th>\n",
              "      <th>Open</th>\n",
              "      <th>High</th>\n",
              "      <th>Low</th>\n",
              "      <th>Close</th>\n",
              "      <th>Adj Close</th>\n",
              "      <th>Volume</th>\n",
              "    </tr>\n",
              "    <tr>\n",
              "      <th>Datetime</th>\n",
              "      <th></th>\n",
              "      <th></th>\n",
              "      <th></th>\n",
              "      <th></th>\n",
              "      <th></th>\n",
              "      <th></th>\n",
              "    </tr>\n",
              "  </thead>\n",
              "  <tbody>\n",
              "    <tr>\n",
              "      <th>2022-12-21 09:15:00</th>\n",
              "      <td>605.900024</td>\n",
              "      <td>608.400024</td>\n",
              "      <td>605.900024</td>\n",
              "      <td>608.299988</td>\n",
              "      <td>608.299988</td>\n",
              "      <td>0</td>\n",
              "    </tr>\n",
              "    <tr>\n",
              "      <th>2022-12-21 09:16:00</th>\n",
              "      <td>608.450012</td>\n",
              "      <td>609.150024</td>\n",
              "      <td>608.000000</td>\n",
              "      <td>608.299988</td>\n",
              "      <td>608.299988</td>\n",
              "      <td>83147</td>\n",
              "    </tr>\n",
              "    <tr>\n",
              "      <th>2022-12-21 09:17:00</th>\n",
              "      <td>608.349976</td>\n",
              "      <td>608.349976</td>\n",
              "      <td>607.250000</td>\n",
              "      <td>607.349976</td>\n",
              "      <td>607.349976</td>\n",
              "      <td>80741</td>\n",
              "    </tr>\n",
              "    <tr>\n",
              "      <th>2022-12-21 09:18:00</th>\n",
              "      <td>607.599976</td>\n",
              "      <td>607.799988</td>\n",
              "      <td>606.650024</td>\n",
              "      <td>607.000000</td>\n",
              "      <td>607.000000</td>\n",
              "      <td>75969</td>\n",
              "    </tr>\n",
              "    <tr>\n",
              "      <th>2022-12-21 09:19:00</th>\n",
              "      <td>607.000000</td>\n",
              "      <td>607.500000</td>\n",
              "      <td>606.900024</td>\n",
              "      <td>606.900024</td>\n",
              "      <td>606.900024</td>\n",
              "      <td>35366</td>\n",
              "    </tr>\n",
              "    <tr>\n",
              "      <th>...</th>\n",
              "      <td>...</td>\n",
              "      <td>...</td>\n",
              "      <td>...</td>\n",
              "      <td>...</td>\n",
              "      <td>...</td>\n",
              "      <td>...</td>\n",
              "    </tr>\n",
              "    <tr>\n",
              "      <th>2022-12-21 15:26:00</th>\n",
              "      <td>593.000000</td>\n",
              "      <td>593.500000</td>\n",
              "      <td>592.950012</td>\n",
              "      <td>593.299988</td>\n",
              "      <td>593.299988</td>\n",
              "      <td>76508</td>\n",
              "    </tr>\n",
              "    <tr>\n",
              "      <th>2022-12-21 15:27:00</th>\n",
              "      <td>593.450012</td>\n",
              "      <td>593.450012</td>\n",
              "      <td>593.000000</td>\n",
              "      <td>593.000000</td>\n",
              "      <td>593.000000</td>\n",
              "      <td>32123</td>\n",
              "    </tr>\n",
              "    <tr>\n",
              "      <th>2022-12-21 15:28:00</th>\n",
              "      <td>593.099976</td>\n",
              "      <td>593.900024</td>\n",
              "      <td>593.000000</td>\n",
              "      <td>593.900024</td>\n",
              "      <td>593.900024</td>\n",
              "      <td>52042</td>\n",
              "    </tr>\n",
              "    <tr>\n",
              "      <th>2022-12-21 15:29:00</th>\n",
              "      <td>593.599976</td>\n",
              "      <td>594.849976</td>\n",
              "      <td>593.599976</td>\n",
              "      <td>594.849976</td>\n",
              "      <td>594.849976</td>\n",
              "      <td>36150</td>\n",
              "    </tr>\n",
              "    <tr>\n",
              "      <th>2022-12-21 15:30:00</th>\n",
              "      <td>593.400024</td>\n",
              "      <td>593.400024</td>\n",
              "      <td>593.400024</td>\n",
              "      <td>593.400024</td>\n",
              "      <td>593.400024</td>\n",
              "      <td>0</td>\n",
              "    </tr>\n",
              "  </tbody>\n",
              "</table>\n",
              "<p>376 rows × 6 columns</p>\n",
              "</div>\n",
              "      <button class=\"colab-df-convert\" onclick=\"convertToInteractive('df-2a7870fa-1387-43a5-a28a-21b73bb12a6f')\"\n",
              "              title=\"Convert this dataframe to an interactive table.\"\n",
              "              style=\"display:none;\">\n",
              "        \n",
              "  <svg xmlns=\"http://www.w3.org/2000/svg\" height=\"24px\"viewBox=\"0 0 24 24\"\n",
              "       width=\"24px\">\n",
              "    <path d=\"M0 0h24v24H0V0z\" fill=\"none\"/>\n",
              "    <path d=\"M18.56 5.44l.94 2.06.94-2.06 2.06-.94-2.06-.94-.94-2.06-.94 2.06-2.06.94zm-11 1L8.5 8.5l.94-2.06 2.06-.94-2.06-.94L8.5 2.5l-.94 2.06-2.06.94zm10 10l.94 2.06.94-2.06 2.06-.94-2.06-.94-.94-2.06-.94 2.06-2.06.94z\"/><path d=\"M17.41 7.96l-1.37-1.37c-.4-.4-.92-.59-1.43-.59-.52 0-1.04.2-1.43.59L10.3 9.45l-7.72 7.72c-.78.78-.78 2.05 0 2.83L4 21.41c.39.39.9.59 1.41.59.51 0 1.02-.2 1.41-.59l7.78-7.78 2.81-2.81c.8-.78.8-2.07 0-2.86zM5.41 20L4 18.59l7.72-7.72 1.47 1.35L5.41 20z\"/>\n",
              "  </svg>\n",
              "      </button>\n",
              "      \n",
              "  <style>\n",
              "    .colab-df-container {\n",
              "      display:flex;\n",
              "      flex-wrap:wrap;\n",
              "      gap: 12px;\n",
              "    }\n",
              "\n",
              "    .colab-df-convert {\n",
              "      background-color: #E8F0FE;\n",
              "      border: none;\n",
              "      border-radius: 50%;\n",
              "      cursor: pointer;\n",
              "      display: none;\n",
              "      fill: #1967D2;\n",
              "      height: 32px;\n",
              "      padding: 0 0 0 0;\n",
              "      width: 32px;\n",
              "    }\n",
              "\n",
              "    .colab-df-convert:hover {\n",
              "      background-color: #E2EBFA;\n",
              "      box-shadow: 0px 1px 2px rgba(60, 64, 67, 0.3), 0px 1px 3px 1px rgba(60, 64, 67, 0.15);\n",
              "      fill: #174EA6;\n",
              "    }\n",
              "\n",
              "    [theme=dark] .colab-df-convert {\n",
              "      background-color: #3B4455;\n",
              "      fill: #D2E3FC;\n",
              "    }\n",
              "\n",
              "    [theme=dark] .colab-df-convert:hover {\n",
              "      background-color: #434B5C;\n",
              "      box-shadow: 0px 1px 3px 1px rgba(0, 0, 0, 0.15);\n",
              "      filter: drop-shadow(0px 1px 2px rgba(0, 0, 0, 0.3));\n",
              "      fill: #FFFFFF;\n",
              "    }\n",
              "  </style>\n",
              "\n",
              "      <script>\n",
              "        const buttonEl =\n",
              "          document.querySelector('#df-2a7870fa-1387-43a5-a28a-21b73bb12a6f button.colab-df-convert');\n",
              "        buttonEl.style.display =\n",
              "          google.colab.kernel.accessAllowed ? 'block' : 'none';\n",
              "\n",
              "        async function convertToInteractive(key) {\n",
              "          const element = document.querySelector('#df-2a7870fa-1387-43a5-a28a-21b73bb12a6f');\n",
              "          const dataTable =\n",
              "            await google.colab.kernel.invokeFunction('convertToInteractive',\n",
              "                                                     [key], {});\n",
              "          if (!dataTable) return;\n",
              "\n",
              "          const docLinkHtml = 'Like what you see? Visit the ' +\n",
              "            '<a target=\"_blank\" href=https://colab.research.google.com/notebooks/data_table.ipynb>data table notebook</a>'\n",
              "            + ' to learn more about interactive tables.';\n",
              "          element.innerHTML = '';\n",
              "          dataTable['output_type'] = 'display_data';\n",
              "          await google.colab.output.renderOutput(dataTable, element);\n",
              "          const docLink = document.createElement('div');\n",
              "          docLink.innerHTML = docLinkHtml;\n",
              "          element.appendChild(docLink);\n",
              "        }\n",
              "      </script>\n",
              "    </div>\n",
              "  </div>\n",
              "  "
            ]
          },
          "metadata": {},
          "execution_count": 7
        }
      ]
    },
    {
      "cell_type": "code",
      "source": [
        "df.Close"
      ],
      "metadata": {
        "colab": {
          "base_uri": "https://localhost:8080/"
        },
        "id": "VHxWSeP4tarw",
        "outputId": "eb4b6d73-cbef-4610-b8f7-0c94eaf4e965"
      },
      "execution_count": null,
      "outputs": [
        {
          "output_type": "execute_result",
          "data": {
            "text/plain": [
              "Datetime\n",
              "2022-12-21 09:15:00    608.299988\n",
              "2022-12-21 09:16:00    608.299988\n",
              "2022-12-21 09:17:00    607.349976\n",
              "2022-12-21 09:18:00    607.000000\n",
              "2022-12-21 09:19:00    606.900024\n",
              "                          ...    \n",
              "2022-12-21 15:26:00    593.299988\n",
              "2022-12-21 15:27:00    593.000000\n",
              "2022-12-21 15:28:00    593.900024\n",
              "2022-12-21 15:29:00    594.849976\n",
              "2022-12-21 15:30:00    593.400024\n",
              "Name: Close, Length: 376, dtype: float64"
            ]
          },
          "metadata": {},
          "execution_count": 10
        }
      ]
    },
    {
      "cell_type": "code",
      "source": [
        "df.reset_index(inplace=True)"
      ],
      "metadata": {
        "id": "RTRQxrk7tgEw"
      },
      "execution_count": null,
      "outputs": []
    },
    {
      "cell_type": "code",
      "source": [
        "df"
      ],
      "metadata": {
        "colab": {
          "base_uri": "https://localhost:8080/",
          "height": 423
        },
        "id": "4hp-zPY0txfn",
        "outputId": "e4ef87ed-d2e6-431a-8acd-3f52ffe7125a"
      },
      "execution_count": null,
      "outputs": [
        {
          "output_type": "execute_result",
          "data": {
            "text/plain": [
              "               Datetime        Open        High         Low       Close  \\\n",
              "0   2022-12-21 09:15:00  605.900024  608.400024  605.900024  608.299988   \n",
              "1   2022-12-21 09:16:00  608.450012  609.150024  608.000000  608.299988   \n",
              "2   2022-12-21 09:17:00  608.349976  608.349976  607.250000  607.349976   \n",
              "3   2022-12-21 09:18:00  607.599976  607.799988  606.650024  607.000000   \n",
              "4   2022-12-21 09:19:00  607.000000  607.500000  606.900024  606.900024   \n",
              "..                  ...         ...         ...         ...         ...   \n",
              "371 2022-12-21 15:26:00  593.000000  593.500000  592.950012  593.299988   \n",
              "372 2022-12-21 15:27:00  593.450012  593.450012  593.000000  593.000000   \n",
              "373 2022-12-21 15:28:00  593.099976  593.900024  593.000000  593.900024   \n",
              "374 2022-12-21 15:29:00  593.599976  594.849976  593.599976  594.849976   \n",
              "375 2022-12-21 15:30:00  593.400024  593.400024  593.400024  593.400024   \n",
              "\n",
              "      Adj Close  Volume  \n",
              "0    608.299988       0  \n",
              "1    608.299988   83147  \n",
              "2    607.349976   80741  \n",
              "3    607.000000   75969  \n",
              "4    606.900024   35366  \n",
              "..          ...     ...  \n",
              "371  593.299988   76508  \n",
              "372  593.000000   32123  \n",
              "373  593.900024   52042  \n",
              "374  594.849976   36150  \n",
              "375  593.400024       0  \n",
              "\n",
              "[376 rows x 7 columns]"
            ],
            "text/html": [
              "\n",
              "  <div id=\"df-0de7a94f-a43e-4044-b387-28cd614f0132\">\n",
              "    <div class=\"colab-df-container\">\n",
              "      <div>\n",
              "<style scoped>\n",
              "    .dataframe tbody tr th:only-of-type {\n",
              "        vertical-align: middle;\n",
              "    }\n",
              "\n",
              "    .dataframe tbody tr th {\n",
              "        vertical-align: top;\n",
              "    }\n",
              "\n",
              "    .dataframe thead th {\n",
              "        text-align: right;\n",
              "    }\n",
              "</style>\n",
              "<table border=\"1\" class=\"dataframe\">\n",
              "  <thead>\n",
              "    <tr style=\"text-align: right;\">\n",
              "      <th></th>\n",
              "      <th>Datetime</th>\n",
              "      <th>Open</th>\n",
              "      <th>High</th>\n",
              "      <th>Low</th>\n",
              "      <th>Close</th>\n",
              "      <th>Adj Close</th>\n",
              "      <th>Volume</th>\n",
              "    </tr>\n",
              "  </thead>\n",
              "  <tbody>\n",
              "    <tr>\n",
              "      <th>0</th>\n",
              "      <td>2022-12-21 09:15:00</td>\n",
              "      <td>605.900024</td>\n",
              "      <td>608.400024</td>\n",
              "      <td>605.900024</td>\n",
              "      <td>608.299988</td>\n",
              "      <td>608.299988</td>\n",
              "      <td>0</td>\n",
              "    </tr>\n",
              "    <tr>\n",
              "      <th>1</th>\n",
              "      <td>2022-12-21 09:16:00</td>\n",
              "      <td>608.450012</td>\n",
              "      <td>609.150024</td>\n",
              "      <td>608.000000</td>\n",
              "      <td>608.299988</td>\n",
              "      <td>608.299988</td>\n",
              "      <td>83147</td>\n",
              "    </tr>\n",
              "    <tr>\n",
              "      <th>2</th>\n",
              "      <td>2022-12-21 09:17:00</td>\n",
              "      <td>608.349976</td>\n",
              "      <td>608.349976</td>\n",
              "      <td>607.250000</td>\n",
              "      <td>607.349976</td>\n",
              "      <td>607.349976</td>\n",
              "      <td>80741</td>\n",
              "    </tr>\n",
              "    <tr>\n",
              "      <th>3</th>\n",
              "      <td>2022-12-21 09:18:00</td>\n",
              "      <td>607.599976</td>\n",
              "      <td>607.799988</td>\n",
              "      <td>606.650024</td>\n",
              "      <td>607.000000</td>\n",
              "      <td>607.000000</td>\n",
              "      <td>75969</td>\n",
              "    </tr>\n",
              "    <tr>\n",
              "      <th>4</th>\n",
              "      <td>2022-12-21 09:19:00</td>\n",
              "      <td>607.000000</td>\n",
              "      <td>607.500000</td>\n",
              "      <td>606.900024</td>\n",
              "      <td>606.900024</td>\n",
              "      <td>606.900024</td>\n",
              "      <td>35366</td>\n",
              "    </tr>\n",
              "    <tr>\n",
              "      <th>...</th>\n",
              "      <td>...</td>\n",
              "      <td>...</td>\n",
              "      <td>...</td>\n",
              "      <td>...</td>\n",
              "      <td>...</td>\n",
              "      <td>...</td>\n",
              "      <td>...</td>\n",
              "    </tr>\n",
              "    <tr>\n",
              "      <th>371</th>\n",
              "      <td>2022-12-21 15:26:00</td>\n",
              "      <td>593.000000</td>\n",
              "      <td>593.500000</td>\n",
              "      <td>592.950012</td>\n",
              "      <td>593.299988</td>\n",
              "      <td>593.299988</td>\n",
              "      <td>76508</td>\n",
              "    </tr>\n",
              "    <tr>\n",
              "      <th>372</th>\n",
              "      <td>2022-12-21 15:27:00</td>\n",
              "      <td>593.450012</td>\n",
              "      <td>593.450012</td>\n",
              "      <td>593.000000</td>\n",
              "      <td>593.000000</td>\n",
              "      <td>593.000000</td>\n",
              "      <td>32123</td>\n",
              "    </tr>\n",
              "    <tr>\n",
              "      <th>373</th>\n",
              "      <td>2022-12-21 15:28:00</td>\n",
              "      <td>593.099976</td>\n",
              "      <td>593.900024</td>\n",
              "      <td>593.000000</td>\n",
              "      <td>593.900024</td>\n",
              "      <td>593.900024</td>\n",
              "      <td>52042</td>\n",
              "    </tr>\n",
              "    <tr>\n",
              "      <th>374</th>\n",
              "      <td>2022-12-21 15:29:00</td>\n",
              "      <td>593.599976</td>\n",
              "      <td>594.849976</td>\n",
              "      <td>593.599976</td>\n",
              "      <td>594.849976</td>\n",
              "      <td>594.849976</td>\n",
              "      <td>36150</td>\n",
              "    </tr>\n",
              "    <tr>\n",
              "      <th>375</th>\n",
              "      <td>2022-12-21 15:30:00</td>\n",
              "      <td>593.400024</td>\n",
              "      <td>593.400024</td>\n",
              "      <td>593.400024</td>\n",
              "      <td>593.400024</td>\n",
              "      <td>593.400024</td>\n",
              "      <td>0</td>\n",
              "    </tr>\n",
              "  </tbody>\n",
              "</table>\n",
              "<p>376 rows × 7 columns</p>\n",
              "</div>\n",
              "      <button class=\"colab-df-convert\" onclick=\"convertToInteractive('df-0de7a94f-a43e-4044-b387-28cd614f0132')\"\n",
              "              title=\"Convert this dataframe to an interactive table.\"\n",
              "              style=\"display:none;\">\n",
              "        \n",
              "  <svg xmlns=\"http://www.w3.org/2000/svg\" height=\"24px\"viewBox=\"0 0 24 24\"\n",
              "       width=\"24px\">\n",
              "    <path d=\"M0 0h24v24H0V0z\" fill=\"none\"/>\n",
              "    <path d=\"M18.56 5.44l.94 2.06.94-2.06 2.06-.94-2.06-.94-.94-2.06-.94 2.06-2.06.94zm-11 1L8.5 8.5l.94-2.06 2.06-.94-2.06-.94L8.5 2.5l-.94 2.06-2.06.94zm10 10l.94 2.06.94-2.06 2.06-.94-2.06-.94-.94-2.06-.94 2.06-2.06.94z\"/><path d=\"M17.41 7.96l-1.37-1.37c-.4-.4-.92-.59-1.43-.59-.52 0-1.04.2-1.43.59L10.3 9.45l-7.72 7.72c-.78.78-.78 2.05 0 2.83L4 21.41c.39.39.9.59 1.41.59.51 0 1.02-.2 1.41-.59l7.78-7.78 2.81-2.81c.8-.78.8-2.07 0-2.86zM5.41 20L4 18.59l7.72-7.72 1.47 1.35L5.41 20z\"/>\n",
              "  </svg>\n",
              "      </button>\n",
              "      \n",
              "  <style>\n",
              "    .colab-df-container {\n",
              "      display:flex;\n",
              "      flex-wrap:wrap;\n",
              "      gap: 12px;\n",
              "    }\n",
              "\n",
              "    .colab-df-convert {\n",
              "      background-color: #E8F0FE;\n",
              "      border: none;\n",
              "      border-radius: 50%;\n",
              "      cursor: pointer;\n",
              "      display: none;\n",
              "      fill: #1967D2;\n",
              "      height: 32px;\n",
              "      padding: 0 0 0 0;\n",
              "      width: 32px;\n",
              "    }\n",
              "\n",
              "    .colab-df-convert:hover {\n",
              "      background-color: #E2EBFA;\n",
              "      box-shadow: 0px 1px 2px rgba(60, 64, 67, 0.3), 0px 1px 3px 1px rgba(60, 64, 67, 0.15);\n",
              "      fill: #174EA6;\n",
              "    }\n",
              "\n",
              "    [theme=dark] .colab-df-convert {\n",
              "      background-color: #3B4455;\n",
              "      fill: #D2E3FC;\n",
              "    }\n",
              "\n",
              "    [theme=dark] .colab-df-convert:hover {\n",
              "      background-color: #434B5C;\n",
              "      box-shadow: 0px 1px 3px 1px rgba(0, 0, 0, 0.15);\n",
              "      filter: drop-shadow(0px 1px 2px rgba(0, 0, 0, 0.3));\n",
              "      fill: #FFFFFF;\n",
              "    }\n",
              "  </style>\n",
              "\n",
              "      <script>\n",
              "        const buttonEl =\n",
              "          document.querySelector('#df-0de7a94f-a43e-4044-b387-28cd614f0132 button.colab-df-convert');\n",
              "        buttonEl.style.display =\n",
              "          google.colab.kernel.accessAllowed ? 'block' : 'none';\n",
              "\n",
              "        async function convertToInteractive(key) {\n",
              "          const element = document.querySelector('#df-0de7a94f-a43e-4044-b387-28cd614f0132');\n",
              "          const dataTable =\n",
              "            await google.colab.kernel.invokeFunction('convertToInteractive',\n",
              "                                                     [key], {});\n",
              "          if (!dataTable) return;\n",
              "\n",
              "          const docLinkHtml = 'Like what you see? Visit the ' +\n",
              "            '<a target=\"_blank\" href=https://colab.research.google.com/notebooks/data_table.ipynb>data table notebook</a>'\n",
              "            + ' to learn more about interactive tables.';\n",
              "          element.innerHTML = '';\n",
              "          dataTable['output_type'] = 'display_data';\n",
              "          await google.colab.output.renderOutput(dataTable, element);\n",
              "          const docLink = document.createElement('div');\n",
              "          docLink.innerHTML = docLinkHtml;\n",
              "          element.appendChild(docLink);\n",
              "        }\n",
              "      </script>\n",
              "    </div>\n",
              "  </div>\n",
              "  "
            ]
          },
          "metadata": {},
          "execution_count": 12
        }
      ]
    },
    {
      "cell_type": "code",
      "source": [
        "df.Datetime.iloc[-1]"
      ],
      "metadata": {
        "colab": {
          "base_uri": "https://localhost:8080/"
        },
        "id": "jo4oZdtstycv",
        "outputId": "a0027be2-c80a-4140-bc4e-9d81074c3729"
      },
      "execution_count": null,
      "outputs": [
        {
          "output_type": "execute_result",
          "data": {
            "text/plain": [
              "Timestamp('2022-12-21 15:30:00')"
            ]
          },
          "metadata": {},
          "execution_count": 14
        }
      ]
    },
    {
      "cell_type": "code",
      "source": [
        "data = yf.download('SBIN.NS','2022-12-01','2022-12-02') \n",
        " \n",
        "# Plot the close prices \n",
        "import matplotlib.pyplot as plt \n",
        "data.Close.plot() \n",
        "plt.show() "
      ],
      "metadata": {
        "colab": {
          "base_uri": "https://localhost:8080/",
          "height": 294
        },
        "id": "hBaqruLmuPCd",
        "outputId": "1e3f3df3-03c0-4d3a-831b-92b2522f34d0"
      },
      "execution_count": null,
      "outputs": [
        {
          "output_type": "stream",
          "name": "stdout",
          "text": [
            "\r[*********************100%***********************]  1 of 1 completed\n"
          ]
        },
        {
          "output_type": "display_data",
          "data": {
            "text/plain": [
              "<Figure size 432x288 with 1 Axes>"
            ],
            "image/png": "[encoded data removed]"
          },
          "metadata": {
            "needs_background": "light"
          }
        }
      ]
    },
    {
      "cell_type": "code",
      "source": [
        "data"
      ],
      "metadata": {
        "colab": {
          "base_uri": "https://localhost:8080/",
          "height": 112
        },
        "id": "KSoxB5mor9-G",
        "outputId": "04eea19e-41fc-47ae-e29b-a09594bafa64"
      },
      "execution_count": null,
      "outputs": [
        {
          "output_type": "execute_result",
          "data": {
            "text/plain": [
              "                  Open        High         Low       Close   Adj Close  \\\n",
              "Date                                                                     \n",
              "2022-12-01  607.849976  609.799988  601.549988  608.099976  608.099976   \n",
              "\n",
              "              Volume  \n",
              "Date                  \n",
              "2022-12-01  14209313  "
            ],
            "text/html": [
              "\n",
              "  <div id=\"df-f031cae0-482e-4612-8062-e3d6aeb89280\">\n",
              "    <div class=\"colab-df-container\">\n",
              "      <div>\n",
              "<style scoped>\n",
              "    .dataframe tbody tr th:only-of-type {\n",
              "        vertical-align: middle;\n",
              "    }\n",
              "\n",
              "    .dataframe tbody tr th {\n",
              "        vertical-align: top;\n",
              "    }\n",
              "\n",
              "    .dataframe thead th {\n",
              "        text-align: right;\n",
              "    }\n",
              "</style>\n",
              "<table border=\"1\" class=\"dataframe\">\n",
              "  <thead>\n",
              "    <tr style=\"text-align: right;\">\n",
              "      <th></th>\n",
              "      <th>Open</th>\n",
              "      <th>High</th>\n",
              "      <th>Low</th>\n",
              "      <th>Close</th>\n",
              "      <th>Adj Close</th>\n",
              "      <th>Volume</th>\n",
              "    </tr>\n",
              "    <tr>\n",
              "      <th>Date</th>\n",
              "      <th></th>\n",
              "      <th></th>\n",
              "      <th></th>\n",
              "      <th></th>\n",
              "      <th></th>\n",
              "      <th></th>\n",
              "    </tr>\n",
              "  </thead>\n",
              "  <tbody>\n",
              "    <tr>\n",
              "      <th>2022-12-01</th>\n",
              "      <td>607.849976</td>\n",
              "      <td>609.799988</td>\n",
              "      <td>601.549988</td>\n",
              "      <td>608.099976</td>\n",
              "      <td>608.099976</td>\n",
              "      <td>14209313</td>\n",
              "    </tr>\n",
              "  </tbody>\n",
              "</table>\n",
              "</div>\n",
              "      <button class=\"colab-df-convert\" onclick=\"convertToInteractive('df-f031cae0-482e-4612-8062-e3d6aeb89280')\"\n",
              "              title=\"Convert this dataframe to an interactive table.\"\n",
              "              style=\"display:none;\">\n",
              "        \n",
              "  <svg xmlns=\"http://www.w3.org/2000/svg\" height=\"24px\"viewBox=\"0 0 24 24\"\n",
              "       width=\"24px\">\n",
              "    <path d=\"M0 0h24v24H0V0z\" fill=\"none\"/>\n",
              "    <path d=\"M18.56 5.44l.94 2.06.94-2.06 2.06-.94-2.06-.94-.94-2.06-.94 2.06-2.06.94zm-11 1L8.5 8.5l.94-2.06 2.06-.94-2.06-.94L8.5 2.5l-.94 2.06-2.06.94zm10 10l.94 2.06.94-2.06 2.06-.94-2.06-.94-.94-2.06-.94 2.06-2.06.94z\"/><path d=\"M17.41 7.96l-1.37-1.37c-.4-.4-.92-.59-1.43-.59-.52 0-1.04.2-1.43.59L10.3 9.45l-7.72 7.72c-.78.78-.78 2.05 0 2.83L4 21.41c.39.39.9.59 1.41.59.51 0 1.02-.2 1.41-.59l7.78-7.78 2.81-2.81c.8-.78.8-2.07 0-2.86zM5.41 20L4 18.59l7.72-7.72 1.47 1.35L5.41 20z\"/>\n",
              "  </svg>\n",
              "      </button>\n",
              "      \n",
              "  <style>\n",
              "    .colab-df-container {\n",
              "      display:flex;\n",
              "      flex-wrap:wrap;\n",
              "      gap: 12px;\n",
              "    }\n",
              "\n",
              "    .colab-df-convert {\n",
              "      background-color: #E8F0FE;\n",
              "      border: none;\n",
              "      border-radius: 50%;\n",
              "      cursor: pointer;\n",
              "      display: none;\n",
              "      fill: #1967D2;\n",
              "      height: 32px;\n",
              "      padding: 0 0 0 0;\n",
              "      width: 32px;\n",
              "    }\n",
              "\n",
              "    .colab-df-convert:hover {\n",
              "      background-color: #E2EBFA;\n",
              "      box-shadow: 0px 1px 2px rgba(60, 64, 67, 0.3), 0px 1px 3px 1px rgba(60, 64, 67, 0.15);\n",
              "      fill: #174EA6;\n",
              "    }\n",
              "\n",
              "    [theme=dark] .colab-df-convert {\n",
              "      background-color: #3B4455;\n",
              "      fill: #D2E3FC;\n",
              "    }\n",
              "\n",
              "    [theme=dark] .colab-df-convert:hover {\n",
              "      background-color: #434B5C;\n",
              "      box-shadow: 0px 1px 3px 1px rgba(0, 0, 0, 0.15);\n",
              "      filter: drop-shadow(0px 1px 2px rgba(0, 0, 0, 0.3));\n",
              "      fill: #FFFFFF;\n",
              "    }\n",
              "  </style>\n",
              "\n",
              "      <script>\n",
              "        const buttonEl =\n",
              "          document.querySelector('#df-f031cae0-482e-4612-8062-e3d6aeb89280 button.colab-df-convert');\n",
              "        buttonEl.style.display =\n",
              "          google.colab.kernel.accessAllowed ? 'block' : 'none';\n",
              "\n",
              "        async function convertToInteractive(key) {\n",
              "          const element = document.querySelector('#df-f031cae0-482e-4612-8062-e3d6aeb89280');\n",
              "          const dataTable =\n",
              "            await google.colab.kernel.invokeFunction('convertToInteractive',\n",
              "                                                     [key], {});\n",
              "          if (!dataTable) return;\n",
              "\n",
              "          const docLinkHtml = 'Like what you see? Visit the ' +\n",
              "            '<a target=\"_blank\" href=https://colab.research.google.com/notebooks/data_table.ipynb>data table notebook</a>'\n",
              "            + ' to learn more about interactive tables.';\n",
              "          element.innerHTML = '';\n",
              "          dataTable['output_type'] = 'display_data';\n",
              "          await google.colab.output.renderOutput(dataTable, element);\n",
              "          const docLink = document.createElement('div');\n",
              "          docLink.innerHTML = docLinkHtml;\n",
              "          element.appendChild(docLink);\n",
              "        }\n",
              "      </script>\n",
              "    </div>\n",
              "  </div>\n",
              "  "
            ]
          },
          "metadata": {},
          "execution_count": 13
        }
      ]
    },
    {
      "cell_type": "code",
      "source": [
        "data.Close"
      ],
      "metadata": {
        "colab": {
          "base_uri": "https://localhost:8080/"
        },
        "id": "XKsoKemKr-oC",
        "outputId": "22bbe3f3-74a7-4f4d-e654-a36762c4bea4"
      },
      "execution_count": null,
      "outputs": [
        {
          "output_type": "execute_result",
          "data": {
            "text/plain": [
              "Date\n",
              "2022-12-01    608.099976\n",
              "Name: Close, dtype: float64"
            ]
          },
          "metadata": {},
          "execution_count": 15
        }
      ]
    },
    {
      "cell_type": "code",
      "source": [
        "from datetime import timedelta, date\n",
        "\n",
        "Date_req = date.today() - timedelta(days=20)\n",
        "\n",
        "print(Date_req)"
      ],
      "metadata": {
        "colab": {
          "base_uri": "https://localhost:8080/"
        },
        "id": "B6mxtszrs7Kh",
        "outputId": "5b72edc6-ab8b-4f42-9e62-e84f53e837bc"
      },
      "execution_count": null,
      "outputs": [
        {
          "output_type": "stream",
          "name": "stdout",
          "text": [
            "2022-12-02\n"
          ]
        }
      ]
    }
  ]
}