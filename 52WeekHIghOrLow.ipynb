{
  "nbformat": 4,
  "nbformat_minor": 0,
  "metadata": {
    "colab": {
      "provenance": [],
      "authorship_tag": "ABX9TyN01VCmTFBWtVUoBl/GSIMA",
      "include_colab_link": true
    },
    "kernelspec": {
      "name": "python3",
      "display_name": "Python 3"
    },
    "language_info": {
      "name": "python"
    }
  },
  "cells": [
    {
      "cell_type": "markdown",
      "metadata": {
        "id": "view-in-github",
        "colab_type": "text"
      },
      "source": [
        "<a href=\"https://colab.research.google.com/github/tuxlimr/Celery_Preprocessing/blob/master/52WeekHIghOrLow.ipynb\" target=\"_parent\"><img src=\"https://colab.research.google.com/assets/colab-badge.svg\" alt=\"Open In Colab\"/></a>"
      ]
    },
    {
      "cell_type": "code",
      "source": [
        "pip install yfinance --quiet\n"
      ],
      "metadata": {
        "colab": {
          "base_uri": "https://localhost:8080/"
        },
        "id": "94Uv9bMHze0a",
        "outputId": "3e5ca570-2799-407e-d7af-768d4d5a038c"
      },
      "execution_count": 1,
      "outputs": [
        {
          "output_type": "stream",
          "name": "stdout",
          "text": [
            "Requirement already satisfied: yfinance in /usr/local/lib/python3.10/dist-packages (0.2.30)\n",
            "Requirement already satisfied: pandas>=1.3.0 in /usr/local/lib/python3.10/dist-packages (from yfinance) (1.5.3)\n",
            "Requirement already satisfied: numpy>=1.16.5 in /usr/local/lib/python3.10/dist-packages (from yfinance) (1.23.5)\n",
            "Requirement already satisfied: requests>=2.31 in /usr/local/lib/python3.10/dist-packages (from yfinance) (2.31.0)\n",
            "Requirement already satisfied: multitasking>=0.0.7 in /usr/local/lib/python3.10/dist-packages (from yfinance) (0.0.11)\n",
            "Requirement already satisfied: lxml>=4.9.1 in /usr/local/lib/python3.10/dist-packages (from yfinance) (4.9.3)\n",
            "Requirement already satisfied: appdirs>=1.4.4 in /usr/local/lib/python3.10/dist-packages (from yfinance) (1.4.4)\n",
            "Requirement already satisfied: pytz>=2022.5 in /usr/local/lib/python3.10/dist-packages (from yfinance) (2023.3.post1)\n",
            "Requirement already satisfied: frozendict>=2.3.4 in /usr/local/lib/python3.10/dist-packages (from yfinance) (2.3.8)\n",
            "Requirement already satisfied: peewee>=3.16.2 in /usr/local/lib/python3.10/dist-packages (from yfinance) (3.16.3)\n",
            "Requirement already satisfied: beautifulsoup4>=4.11.1 in /usr/local/lib/python3.10/dist-packages (from yfinance) (4.11.2)\n",
            "Requirement already satisfied: html5lib>=1.1 in /usr/local/lib/python3.10/dist-packages (from yfinance) (1.1)\n",
            "Requirement already satisfied: soupsieve>1.2 in /usr/local/lib/python3.10/dist-packages (from beautifulsoup4>=4.11.1->yfinance) (2.5)\n",
            "Requirement already satisfied: six>=1.9 in /usr/local/lib/python3.10/dist-packages (from html5lib>=1.1->yfinance) (1.16.0)\n",
            "Requirement already satisfied: webencodings in /usr/local/lib/python3.10/dist-packages (from html5lib>=1.1->yfinance) (0.5.1)\n",
            "Requirement already satisfied: python-dateutil>=2.8.1 in /usr/local/lib/python3.10/dist-packages (from pandas>=1.3.0->yfinance) (2.8.2)\n",
            "Requirement already satisfied: charset-normalizer<4,>=2 in /usr/local/lib/python3.10/dist-packages (from requests>=2.31->yfinance) (3.3.0)\n",
            "Requirement already satisfied: idna<4,>=2.5 in /usr/local/lib/python3.10/dist-packages (from requests>=2.31->yfinance) (3.4)\n",
            "Requirement already satisfied: urllib3<3,>=1.21.1 in /usr/local/lib/python3.10/dist-packages (from requests>=2.31->yfinance) (2.0.6)\n",
            "Requirement already satisfied: certifi>=2017.4.17 in /usr/local/lib/python3.10/dist-packages (from requests>=2.31->yfinance) (2023.7.22)\n"
          ]
        }
      ]
    },
    {
      "cell_type": "code",
      "source": [
        "import yfinance as yf\n",
        "\n",
        "def is_near_52_week_high_low(ticker_symbol, tolerance=0.05):\n",
        "    stock = yf.Ticker(ticker_symbol)\n",
        "    data = stock.history(period=\"1y\")\n",
        "\n",
        "    high_52_week = data['Close'].max()\n",
        "    low_52_week = data['Close'].min()\n",
        "    last_close = data['Close'].iloc[-1]\n",
        "\n",
        "    near_high = last_close >= (1 - tolerance) * high_52_week\n",
        "    near_low = last_close <= (1 + tolerance) * low_52_week\n",
        "\n",
        "    return near_high, near_low, high_52_week, low_52_week, last_close\n",
        "\n",
        "def check_stocks(stocks, tolerance=0.05):\n",
        "    for stock_symbol in stocks:\n",
        "        near_high, near_low, high_52_week, low_52_week, last_close = is_near_52_week_high_low(stock_symbol, tolerance)\n",
        "\n",
        "        print(f\"Stock: {stock_symbol}\")\n",
        "        print(f\"Last Close: {last_close}\")\n",
        "        print(f\"52-Week High: {high_52_week}\")\n",
        "        print(f\"52-Week Low: {low_52_week}\")\n",
        "        print(f\"Is near 52-week high (within {tolerance * 100:.2f}%): {near_high}\")\n",
        "        print(f\"Is near 52-week low (within {tolerance * 100:.2f}%): {near_low}\")\n",
        "        print(\"\\n\")\n",
        "\n",
        "if __name__ == \"__main__\":\n",
        "    # List of stock ticker symbols\n",
        "    ticker_symbols =  ['HDFCBANK.NS','PNB.NS','SBIN.NS', 'ICICIBANK.NS','AXISBANK.NS','CANBK.NS','BANKBARODA.NS','INDUSINDBK.NS', 'RBLBANK.NS', 'MAHABANK.NS', 'J&KBANK.NS', 'IDBI.NS']  # Example: Apple, Google, Amazon\n",
        "\n",
        "    # Tolerance of 5% (adjust as needed)\n",
        "    tolerance = 0.05\n",
        "\n",
        "    check_stocks(ticker_symbols, tolerance)\n"
      ],
      "metadata": {
        "colab": {
          "base_uri": "https://localhost:8080/"
        },
        "id": "gfYbY_R31GTo",
        "outputId": "d960ed5b-86cc-4eaf-9a96-bd153a859989"
      },
      "execution_count": 8,
      "outputs": [
        {
          "output_type": "stream",
          "name": "stdout",
          "text": [
            "Stock: HDFCBANK.NS\n",
            "Last Close: 1534.050048828125\n",
            "52-Week High: 1728.199951171875\n",
            "52-Week Low: 1377.799560546875\n",
            "Is near 52-week high (within 5.00%): False\n",
            "Is near 52-week low (within 5.00%): False\n",
            "\n",
            "\n",
            "Stock: PNB.NS\n",
            "Last Close: 76.75\n",
            "52-Week High: 83.19999694824219\n",
            "52-Week Low: 35.24500274658203\n",
            "Is near 52-week high (within 5.00%): False\n",
            "Is near 52-week low (within 5.00%): False\n",
            "\n",
            "\n",
            "Stock: SBIN.NS\n",
            "Last Close: 594.25\n",
            "52-Week High: 620.2000122070312\n",
            "52-Week Low: 495.71697998046875\n",
            "Is near 52-week high (within 5.00%): True\n",
            "Is near 52-week low (within 5.00%): False\n",
            "\n",
            "\n",
            "Stock: ICICIBANK.NS\n",
            "Last Close: 945.2000122070312\n",
            "52-Week High: 992.4500122070312\n",
            "52-Week Low: 803.8822631835938\n",
            "Is near 52-week high (within 5.00%): True\n",
            "Is near 52-week low (within 5.00%): False\n",
            "\n",
            "\n",
            "Stock: AXISBANK.NS\n",
            "Last Close: 1000.9500122070312\n",
            "52-Week High: 1041.050048828125\n",
            "52-Week Low: 753.5496826171875\n",
            "Is near 52-week high (within 5.00%): True\n",
            "Is near 52-week low (within 5.00%): False\n",
            "\n",
            "\n",
            "Stock: CANBK.NS\n",
            "Last Close: 375.29998779296875\n",
            "52-Week High: 384.45001220703125\n",
            "52-Week Low: 214.2135009765625\n",
            "Is near 52-week high (within 5.00%): True\n",
            "Is near 52-week low (within 5.00%): False\n",
            "\n",
            "\n",
            "Stock: BANKBARODA.NS\n",
            "Last Close: 215.3000030517578\n",
            "52-Week High: 217.85000610351562\n",
            "52-Week Low: 125.8670883178711\n",
            "Is near 52-week high (within 5.00%): True\n",
            "Is near 52-week low (within 5.00%): False\n",
            "\n",
            "\n",
            "Stock: INDUSINDBK.NS\n",
            "Last Close: 1434.800048828125\n",
            "52-Week High: 1458.25\n",
            "52-Week Low: 991.423583984375\n",
            "Is near 52-week high (within 5.00%): True\n",
            "Is near 52-week low (within 5.00%): False\n",
            "\n",
            "\n",
            "Stock: RBLBANK.NS\n",
            "Last Close: 247.5\n",
            "52-Week High: 255.60000610351562\n",
            "52-Week Low: 119.277587890625\n",
            "Is near 52-week high (within 5.00%): True\n",
            "Is near 52-week low (within 5.00%): False\n",
            "\n",
            "\n",
            "Stock: MAHABANK.NS\n",
            "Last Close: 48.54999923706055\n",
            "52-Week High: 49.5\n",
            "52-Week Low: 15.696741104125977\n",
            "Is near 52-week high (within 5.00%): True\n",
            "Is near 52-week low (within 5.00%): False\n",
            "\n",
            "\n",
            "Stock: J&KBANK.NS\n",
            "Last Close: 114.0\n",
            "52-Week High: 114.0\n",
            "52-Week Low: 27.784282684326172\n",
            "Is near 52-week high (within 5.00%): True\n",
            "Is near 52-week low (within 5.00%): False\n",
            "\n",
            "\n",
            "Stock: IDBI.NS\n",
            "Last Close: 69.75\n",
            "52-Week High: 72.55000305175781\n",
            "52-Week Low: 41.61919403076172\n",
            "Is near 52-week high (within 5.00%): True\n",
            "Is near 52-week low (within 5.00%): False\n",
            "\n",
            "\n"
          ]
        }
      ]
    },
    {
      "cell_type": "code",
      "source": [],
      "metadata": {
        "id": "7NNpzs4R1Gpl"
      },
      "execution_count": null,
      "outputs": []
    }
  ]
}